{
  "nbformat": 4,
  "nbformat_minor": 0,
  "metadata": {
    "colab": {
      "provenance": [],
      "include_colab_link": true
    },
    "kernelspec": {
      "name": "python3",
      "display_name": "Python 3"
    }
  },
  "cells": [
    {
      "cell_type": "markdown",
      "metadata": {
        "id": "view-in-github",
        "colab_type": "text"
      },
      "source": [
        "<a href=\"https://colab.research.google.com/github/DouglasC07/Proejeto_Airbnb/blob/main/Analisando_os_Dados_do_Airbnb_(Cambridge_Massachusetts)_V1_1.ipynb\" target=\"_parent\"><img src=\"https://colab.research.google.com/assets/colab-badge.svg\" alt=\"Open In Colab\"/></a>"
      ]
    },
    {
      "cell_type": "markdown",
      "metadata": {
        "id": "kLI0gJtzDGuQ"
      },
      "source": [
        "<img alt=\"Colaboratory logo\" width=\"15%\" src=\"https://raw.githubusercontent.com/carlosfab/escola-data-science/master/img/novo_logo_bg_claro.png\">\n",
        "\n",
        "#### **Data Science na Prática 3.0**\n",
        "*by [sigmoidal.ai](https://sigmoidal.ai)*\n",
        "\n",
        "---\n",
        "\n",
        "# Análise dos Dados do Airbnb - *Cambridge (Massachusetts)*\n",
        "\n",
        "<center><img src=\"https://images.unsplash.com/photo-1570122712585-b7cff982ebc2?ixlib=rb-4.0.3&ixid=MnwxMjA3fDB8MHxwaG90by1wYWdlfHx8fGVufDB8fHx8&auto=format&fit=crop&w=870&q=80\" height=\"400px\"></center>\n",
        "\n",
        "O [Airbnb](https://www.airbnb.com.br/) já é considerado como sendo a **maior empresa hoteleira da atualidade**. Ah, o detalhe é que ele **não possui nenhum hotel**!\n",
        "\n",
        "Conectando pessoas que querem viajar (e se hospedar) com anfitriões que querem alugar seus imóveis de maneira prática, o Airbnb fornece uma plataforma inovadora para tornar essa hospedagem alternativa.\n",
        "\n",
        "No final de 2018, a Startup fundada 10 anos atrás, já havia **hospedado mais de 300 milhões** de pessoas ao redor de todo o mundo, desafiando as redes hoteleiras tradicionais.\n",
        "\n",
        "Uma das iniciativas do Airbnb é disponibilizar dados do site, para algumas das principais cidades do mundo. Por meio do portal [Inside Airbnb](http://insideairbnb.com/get-the-data.html), é possível baixar uma grande quantidade de dados para desenvolver projetos e soluções de *Data Science*.\n",
        "\n",
        "<center><img alt=\"Analisando Airbnb\" width=\"10%\" src=\"https://www.area360.com.au/wp-content/uploads/2017/09/airbnb-logo.jpg\"></center>\n",
        "\n",
        "**Neste *notebook*, iremos analisar os dados referentes à cidade de Cambridge, e ver quais insights podem ser extraídos a partir de dados brutos.**\n",
        "\n",
        "\n"
      ]
    },
    {
      "cell_type": "markdown",
      "source": [
        "  Cambridge pertence ao estado de Massachusetts (EUA), nomeado em homenagem a Universidade de Cambridge (Inglaterra). Possui duas das\n",
        "maiores universidades do mundo, Harvad e MIT. \n",
        "\n",
        "O visitante tem a possibilidade de conhecer essas grandes universidades, que possui visitas monitoradas onde são apresentadas a arquitetura e os monumentos, além disso a região conta com o cemitério de Mount Auburn, importante ponto turístico.\n",
        "\n",
        "  Muitos nomes importantes se formaram em alguma dessas instituições como Barack Obama, Bill Gates, Margaret Atwood, Buzz Aldrin, Shirley Ann Jackson  entre outros. A curiosidade em conhecer o lugar onde essas grandes personalidades estudaram, faz com que a região receba muitas pessoas o que acaba sendo positivo para os comércios locais e serviços de hospedagem."
      ],
      "metadata": {
        "id": "8tMDjROGSoZY"
      }
    },
    {
      "cell_type": "markdown",
      "metadata": {
        "id": "0zxQHhIUDF_2"
      },
      "source": [
        "## Obtenção dos Dados\n",
        "\n",
        "Inicialmente é necessário importar as bibliotecas e o dataset que será estudado.\n"
      ]
    },
    {
      "cell_type": "code",
      "metadata": {
        "id": "Vhp2wMPgJ6zX"
      },
      "source": [
        "# importar os pacotes necessarios\n",
        "import pandas as pd\n",
        "import matplotlib.pyplot as plt\n",
        "import seaborn as sns\n",
        "\n",
        "%matplotlib inline"
      ],
      "execution_count": null,
      "outputs": []
    },
    {
      "cell_type": "code",
      "metadata": {
        "id": "tUmoAT8DLQ5T"
      },
      "source": [
        "  # importar o arquivo listings.csv para um DataFrame\n",
        "  df = pd.read_csv(\"http://data.insideairbnb.com/united-states/ma/cambridge/2022-09-22/visualisations/listings.csv\")"
      ],
      "execution_count": null,
      "outputs": []
    },
    {
      "cell_type": "markdown",
      "metadata": {
        "id": "qb5By2nIMS6m"
      },
      "source": [
        "## Análise dos Dados\n",
        "\n",
        "É importante informar o que cada variável (coluna) representa, facilitando a compreensão das informações ali presentes.\n"
      ]
    },
    {
      "cell_type": "markdown",
      "metadata": {
        "id": "RYgvuebKNg8-"
      },
      "source": [
        "**Dicionário das variáveis**\n",
        "\n",
        "* `id`- número de id gerado para identificar o imóvel\n",
        "* `name`- nome da propriedade anunciada\n",
        "* `host_id`- número de id do proprietário (anfitrião) da propriedade\n",
        "* `host_name`- nome do anfitrião\n",
        "* `neighbourhood_group`- esta coluna não contém nenhum valor válido\n",
        "* `neighbourhood` - nome do bairro\n",
        "* `latitude`- coordenada da latitude da propriedade\n",
        "* `longitude`- coordenada da longitude da propriedade\n",
        "* `room_type`- informa o tipo de quarto que é oferecido\n",
        "* `price`- preço para alugar o imóvel\n",
        "* `minimum_nights`- quantidade mínima de noites para reservar\n",
        "* `number_of_reviews`- número de reviews que a propriedade possui\n",
        "* `last_review`- data do último review\n",
        "* `reviews_per_month`- quantidade de reviews por mês\n",
        "* `calculated_host_listings_count`- quantidade de imóveis do mesmo anfitrião\n",
        "* `availability_365`- número de dias de disponibilidade dentro de 365 dias\n",
        "* `number_of_reviews_ltm` - número total de reviews que uma propriedade recebeu nos últimos 12 meses\n",
        "* `licence`- Autorização/Permissão\n",
        "\n",
        "Antes de iniciar qualquer análise, vamos verificar a cara do nosso *dataset*, analisando as 5 primeiras entradas."
      ]
    },
    {
      "cell_type": "code",
      "metadata": {
        "id": "2iS_dae7YQtO",
        "colab": {
          "base_uri": "https://localhost:8080/",
          "height": 461
        },
        "outputId": "194bd83b-5f64-4361-82b2-fa47d28abcef"
      },
      "source": [
        "# mostrar as 5 primeiras entradas\n",
        "df.head()"
      ],
      "execution_count": null,
      "outputs": [
        {
          "output_type": "execute_result",
          "data": {
            "text/plain": [
              "      id                                               name  host_id  \\\n",
              "0   7903         Colorful, modern 2 BR apt shared with host    14169   \n",
              "1   8521   SunsplashedSerenity walk to Harvard & Fresh Pond   306681   \n",
              "2   8789                Curved Glass Studio/1bd facing Park    26988   \n",
              "3  10813  Back Bay Apt-blocks to subway, Newbury St, The...    38997   \n",
              "4  10986  North End (Waterfront area)  CLOSE TO MGH & SU...    38997   \n",
              "\n",
              "  host_name  neighbourhood_group   neighbourhood  latitude  longitude  \\\n",
              "0     Stacy                  NaN         Agassiz  42.39031  -71.09361   \n",
              "1     Janet                  NaN  West Cambridge  42.38258  -71.13646   \n",
              "2      Anne                  NaN  East Cambridge  42.35867  -71.06307   \n",
              "3  Michelle                  NaN      Area 2/MIT  42.35061  -71.08787   \n",
              "4  Michelle                  NaN  East Cambridge  42.36377  -71.05206   \n",
              "\n",
              "         room_type  price  minimum_nights  number_of_reviews last_review  \\\n",
              "0     Private room    118               4                295  2022-09-06   \n",
              "1  Entire home/apt    300               2                 50  2022-08-28   \n",
              "2  Entire home/apt    110              91                 25  2020-04-15   \n",
              "3  Entire home/apt    135              29                  5  2020-12-02   \n",
              "4  Entire home/apt    135              33                  2  2016-05-23   \n",
              "\n",
              "   reviews_per_month  calculated_host_listings_count  availability_365  \\\n",
              "0               1.83                               1                10   \n",
              "1               0.31                               2               258   \n",
              "2               0.25                               5               279   \n",
              "3               0.06                              11               355   \n",
              "4               0.03                              11               356   \n",
              "\n",
              "   number_of_reviews_ltm      license  \n",
              "0                     16          NaN  \n",
              "1                      5  C0121120491  \n",
              "2                      0          NaN  \n",
              "3                      0          NaN  \n",
              "4                      0          NaN  "
            ],
            "text/html": [
              "\n",
              "  <div id=\"df-25f49d84-7f3f-44c1-87ce-8bed73768f0b\">\n",
              "    <div class=\"colab-df-container\">\n",
              "      <div>\n",
              "<style scoped>\n",
              "    .dataframe tbody tr th:only-of-type {\n",
              "        vertical-align: middle;\n",
              "    }\n",
              "\n",
              "    .dataframe tbody tr th {\n",
              "        vertical-align: top;\n",
              "    }\n",
              "\n",
              "    .dataframe thead th {\n",
              "        text-align: right;\n",
              "    }\n",
              "</style>\n",
              "<table border=\"1\" class=\"dataframe\">\n",
              "  <thead>\n",
              "    <tr style=\"text-align: right;\">\n",
              "      <th></th>\n",
              "      <th>id</th>\n",
              "      <th>name</th>\n",
              "      <th>host_id</th>\n",
              "      <th>host_name</th>\n",
              "      <th>neighbourhood_group</th>\n",
              "      <th>neighbourhood</th>\n",
              "      <th>latitude</th>\n",
              "      <th>longitude</th>\n",
              "      <th>room_type</th>\n",
              "      <th>price</th>\n",
              "      <th>minimum_nights</th>\n",
              "      <th>number_of_reviews</th>\n",
              "      <th>last_review</th>\n",
              "      <th>reviews_per_month</th>\n",
              "      <th>calculated_host_listings_count</th>\n",
              "      <th>availability_365</th>\n",
              "      <th>number_of_reviews_ltm</th>\n",
              "      <th>license</th>\n",
              "    </tr>\n",
              "  </thead>\n",
              "  <tbody>\n",
              "    <tr>\n",
              "      <th>0</th>\n",
              "      <td>7903</td>\n",
              "      <td>Colorful, modern 2 BR apt shared with host</td>\n",
              "      <td>14169</td>\n",
              "      <td>Stacy</td>\n",
              "      <td>NaN</td>\n",
              "      <td>Agassiz</td>\n",
              "      <td>42.39031</td>\n",
              "      <td>-71.09361</td>\n",
              "      <td>Private room</td>\n",
              "      <td>118</td>\n",
              "      <td>4</td>\n",
              "      <td>295</td>\n",
              "      <td>2022-09-06</td>\n",
              "      <td>1.83</td>\n",
              "      <td>1</td>\n",
              "      <td>10</td>\n",
              "      <td>16</td>\n",
              "      <td>NaN</td>\n",
              "    </tr>\n",
              "    <tr>\n",
              "      <th>1</th>\n",
              "      <td>8521</td>\n",
              "      <td>SunsplashedSerenity walk to Harvard &amp; Fresh Pond</td>\n",
              "      <td>306681</td>\n",
              "      <td>Janet</td>\n",
              "      <td>NaN</td>\n",
              "      <td>West Cambridge</td>\n",
              "      <td>42.38258</td>\n",
              "      <td>-71.13646</td>\n",
              "      <td>Entire home/apt</td>\n",
              "      <td>300</td>\n",
              "      <td>2</td>\n",
              "      <td>50</td>\n",
              "      <td>2022-08-28</td>\n",
              "      <td>0.31</td>\n",
              "      <td>2</td>\n",
              "      <td>258</td>\n",
              "      <td>5</td>\n",
              "      <td>C0121120491</td>\n",
              "    </tr>\n",
              "    <tr>\n",
              "      <th>2</th>\n",
              "      <td>8789</td>\n",
              "      <td>Curved Glass Studio/1bd facing Park</td>\n",
              "      <td>26988</td>\n",
              "      <td>Anne</td>\n",
              "      <td>NaN</td>\n",
              "      <td>East Cambridge</td>\n",
              "      <td>42.35867</td>\n",
              "      <td>-71.06307</td>\n",
              "      <td>Entire home/apt</td>\n",
              "      <td>110</td>\n",
              "      <td>91</td>\n",
              "      <td>25</td>\n",
              "      <td>2020-04-15</td>\n",
              "      <td>0.25</td>\n",
              "      <td>5</td>\n",
              "      <td>279</td>\n",
              "      <td>0</td>\n",
              "      <td>NaN</td>\n",
              "    </tr>\n",
              "    <tr>\n",
              "      <th>3</th>\n",
              "      <td>10813</td>\n",
              "      <td>Back Bay Apt-blocks to subway, Newbury St, The...</td>\n",
              "      <td>38997</td>\n",
              "      <td>Michelle</td>\n",
              "      <td>NaN</td>\n",
              "      <td>Area 2/MIT</td>\n",
              "      <td>42.35061</td>\n",
              "      <td>-71.08787</td>\n",
              "      <td>Entire home/apt</td>\n",
              "      <td>135</td>\n",
              "      <td>29</td>\n",
              "      <td>5</td>\n",
              "      <td>2020-12-02</td>\n",
              "      <td>0.06</td>\n",
              "      <td>11</td>\n",
              "      <td>355</td>\n",
              "      <td>0</td>\n",
              "      <td>NaN</td>\n",
              "    </tr>\n",
              "    <tr>\n",
              "      <th>4</th>\n",
              "      <td>10986</td>\n",
              "      <td>North End (Waterfront area)  CLOSE TO MGH &amp; SU...</td>\n",
              "      <td>38997</td>\n",
              "      <td>Michelle</td>\n",
              "      <td>NaN</td>\n",
              "      <td>East Cambridge</td>\n",
              "      <td>42.36377</td>\n",
              "      <td>-71.05206</td>\n",
              "      <td>Entire home/apt</td>\n",
              "      <td>135</td>\n",
              "      <td>33</td>\n",
              "      <td>2</td>\n",
              "      <td>2016-05-23</td>\n",
              "      <td>0.03</td>\n",
              "      <td>11</td>\n",
              "      <td>356</td>\n",
              "      <td>0</td>\n",
              "      <td>NaN</td>\n",
              "    </tr>\n",
              "  </tbody>\n",
              "</table>\n",
              "</div>\n",
              "      <button class=\"colab-df-convert\" onclick=\"convertToInteractive('df-25f49d84-7f3f-44c1-87ce-8bed73768f0b')\"\n",
              "              title=\"Convert this dataframe to an interactive table.\"\n",
              "              style=\"display:none;\">\n",
              "        \n",
              "  <svg xmlns=\"http://www.w3.org/2000/svg\" height=\"24px\"viewBox=\"0 0 24 24\"\n",
              "       width=\"24px\">\n",
              "    <path d=\"M0 0h24v24H0V0z\" fill=\"none\"/>\n",
              "    <path d=\"M18.56 5.44l.94 2.06.94-2.06 2.06-.94-2.06-.94-.94-2.06-.94 2.06-2.06.94zm-11 1L8.5 8.5l.94-2.06 2.06-.94-2.06-.94L8.5 2.5l-.94 2.06-2.06.94zm10 10l.94 2.06.94-2.06 2.06-.94-2.06-.94-.94-2.06-.94 2.06-2.06.94z\"/><path d=\"M17.41 7.96l-1.37-1.37c-.4-.4-.92-.59-1.43-.59-.52 0-1.04.2-1.43.59L10.3 9.45l-7.72 7.72c-.78.78-.78 2.05 0 2.83L4 21.41c.39.39.9.59 1.41.59.51 0 1.02-.2 1.41-.59l7.78-7.78 2.81-2.81c.8-.78.8-2.07 0-2.86zM5.41 20L4 18.59l7.72-7.72 1.47 1.35L5.41 20z\"/>\n",
              "  </svg>\n",
              "      </button>\n",
              "      \n",
              "  <style>\n",
              "    .colab-df-container {\n",
              "      display:flex;\n",
              "      flex-wrap:wrap;\n",
              "      gap: 12px;\n",
              "    }\n",
              "\n",
              "    .colab-df-convert {\n",
              "      background-color: #E8F0FE;\n",
              "      border: none;\n",
              "      border-radius: 50%;\n",
              "      cursor: pointer;\n",
              "      display: none;\n",
              "      fill: #1967D2;\n",
              "      height: 32px;\n",
              "      padding: 0 0 0 0;\n",
              "      width: 32px;\n",
              "    }\n",
              "\n",
              "    .colab-df-convert:hover {\n",
              "      background-color: #E2EBFA;\n",
              "      box-shadow: 0px 1px 2px rgba(60, 64, 67, 0.3), 0px 1px 3px 1px rgba(60, 64, 67, 0.15);\n",
              "      fill: #174EA6;\n",
              "    }\n",
              "\n",
              "    [theme=dark] .colab-df-convert {\n",
              "      background-color: #3B4455;\n",
              "      fill: #D2E3FC;\n",
              "    }\n",
              "\n",
              "    [theme=dark] .colab-df-convert:hover {\n",
              "      background-color: #434B5C;\n",
              "      box-shadow: 0px 1px 3px 1px rgba(0, 0, 0, 0.15);\n",
              "      filter: drop-shadow(0px 1px 2px rgba(0, 0, 0, 0.3));\n",
              "      fill: #FFFFFF;\n",
              "    }\n",
              "  </style>\n",
              "\n",
              "      <script>\n",
              "        const buttonEl =\n",
              "          document.querySelector('#df-25f49d84-7f3f-44c1-87ce-8bed73768f0b button.colab-df-convert');\n",
              "        buttonEl.style.display =\n",
              "          google.colab.kernel.accessAllowed ? 'block' : 'none';\n",
              "\n",
              "        async function convertToInteractive(key) {\n",
              "          const element = document.querySelector('#df-25f49d84-7f3f-44c1-87ce-8bed73768f0b');\n",
              "          const dataTable =\n",
              "            await google.colab.kernel.invokeFunction('convertToInteractive',\n",
              "                                                     [key], {});\n",
              "          if (!dataTable) return;\n",
              "\n",
              "          const docLinkHtml = 'Like what you see? Visit the ' +\n",
              "            '<a target=\"_blank\" href=https://colab.research.google.com/notebooks/data_table.ipynb>data table notebook</a>'\n",
              "            + ' to learn more about interactive tables.';\n",
              "          element.innerHTML = '';\n",
              "          dataTable['output_type'] = 'display_data';\n",
              "          await google.colab.output.renderOutput(dataTable, element);\n",
              "          const docLink = document.createElement('div');\n",
              "          docLink.innerHTML = docLinkHtml;\n",
              "          element.appendChild(docLink);\n",
              "        }\n",
              "      </script>\n",
              "    </div>\n",
              "  </div>\n",
              "  "
            ]
          },
          "metadata": {},
          "execution_count": 3
        }
      ]
    },
    {
      "cell_type": "markdown",
      "metadata": {
        "id": "6-B_qtEaYEd-"
      },
      "source": [
        "### **Q1. Quantos atributos (variáveis) e quantas entradas o nosso conjunto de dados possui? Quais os tipos das variáveis?**\n",
        "\n",
        "Antes de responder a primeira pergunta, vale contextualizar que o conjunto de dados está organizado em forma tabular, ou seja, linhas e colunas. Quando estamos querendo saber os atributos(Variáveis) e entradas, estamos nos referindo a quantidade de colunas e linhas respectivamente.\n",
        "\n",
        "O *dataset* utilizado é a versão \"resumida\" do Airbnb. Na mesma página que baixamos o arquivo `listings.csv`. Há uma versão mais completa `(listings.csv.gz)`. \n",
        "\n"
      ]
    },
    {
      "cell_type": "code",
      "metadata": {
        "id": "TFRK0tniLV-G",
        "colab": {
          "base_uri": "https://localhost:8080/",
          "height": 399
        },
        "outputId": "2367f9ee-fa16-4099-baeb-6d067c2d6d3b"
      },
      "source": [
        "  # identificar o volume de dados do DataFrame\n",
        "  print(\"Entradas:\\t {}\".format(df.shape[0]))\n",
        "  print(\"Variáveis:\\t {}\\n\".format(df.shape[1]))\n",
        "\n",
        "  # verificar as 5 primeiras entradas do dataset\n",
        "  display(df.dtypes)"
      ],
      "execution_count": null,
      "outputs": [
        {
          "output_type": "stream",
          "name": "stdout",
          "text": [
            "Entradas:\t 3089\n",
            "Variáveis:\t 18\n",
            "\n"
          ]
        },
        {
          "output_type": "display_data",
          "data": {
            "text/plain": [
              "id                                  int64\n",
              "name                               object\n",
              "host_id                             int64\n",
              "host_name                          object\n",
              "neighbourhood_group               float64\n",
              "neighbourhood                      object\n",
              "latitude                          float64\n",
              "longitude                         float64\n",
              "room_type                          object\n",
              "price                               int64\n",
              "minimum_nights                      int64\n",
              "number_of_reviews                   int64\n",
              "last_review                        object\n",
              "reviews_per_month                 float64\n",
              "calculated_host_listings_count      int64\n",
              "availability_365                    int64\n",
              "number_of_reviews_ltm               int64\n",
              "license                            object\n",
              "dtype: object"
            ]
          },
          "metadata": {}
        }
      ]
    },
    {
      "cell_type": "markdown",
      "metadata": {
        "id": "yz1urSUGW9iE"
      },
      "source": [
        "### **Q2. Qual a porcentagem de valores ausentes no *dataset*?**\n",
        "\n",
        "A qualidade de um *dataset* está diretamente relacionada à quantidade de valores ausentes. É importante entender logo no início se esses valores nulos são significativos comparados ao total de entradas.\n",
        "\n",
        "* é possível ver que a coluna `neighbourhood_group` possui 100% dos seus valores faltantes.\n",
        "* A variável `Licence` possui mais da metade das linhas com valores nulos, cerca de 56,8%.\n",
        "* As variáveis `reviews_per_month` e `last_review` possuem o mesmo valor de linhas com valores nulos, aproximadamente 24,3%."
      ]
    },
    {
      "cell_type": "code",
      "metadata": {
        "id": "plk2FjbCXOqP",
        "colab": {
          "base_uri": "https://localhost:8080/"
        },
        "outputId": "178ae785-2e2c-46e5-9ed2-aea6ab767cbd"
      },
      "source": [
        "# ordenar em ordem decrescente as variáveis por seus valores ausentes\n",
        "(df.isnull().sum()/ df.shape[0]).sort_values(ascending=False)"
      ],
      "execution_count": null,
      "outputs": [
        {
          "output_type": "execute_result",
          "data": {
            "text/plain": [
              "neighbourhood_group               1.000000\n",
              "license                           0.568145\n",
              "reviews_per_month                 0.243121\n",
              "last_review                       0.243121\n",
              "minimum_nights                    0.000000\n",
              "number_of_reviews_ltm             0.000000\n",
              "availability_365                  0.000000\n",
              "calculated_host_listings_count    0.000000\n",
              "number_of_reviews                 0.000000\n",
              "id                                0.000000\n",
              "name                              0.000000\n",
              "room_type                         0.000000\n",
              "longitude                         0.000000\n",
              "latitude                          0.000000\n",
              "neighbourhood                     0.000000\n",
              "host_name                         0.000000\n",
              "host_id                           0.000000\n",
              "price                             0.000000\n",
              "dtype: float64"
            ]
          },
          "metadata": {},
          "execution_count": 5
        }
      ]
    },
    {
      "cell_type": "markdown",
      "source": [
        "#### Limpeza de Dados\n",
        "\n",
        "Nesse dataset em específico, o conjunto de dados representado pelas colunas `neighbourhood_group`, `license`, `reviews_per_month`, `last_review` podem ser excluidas totalmente devido a grande quantidade de valores ausentes e baixo poder preditivo."
      ],
      "metadata": {
        "id": "VYg9iDjfd2w0"
      }
    },
    {
      "cell_type": "code",
      "source": [
        "# Verificando dados ausentes\n",
        "(df.isnull().sum()).sort_values(ascending=False)"
      ],
      "metadata": {
        "colab": {
          "base_uri": "https://localhost:8080/"
        },
        "id": "8Ns1ku2ffKKE",
        "outputId": "a26903ed-bfa4-4640-c22c-8aff109fddc1"
      },
      "execution_count": null,
      "outputs": [
        {
          "output_type": "execute_result",
          "data": {
            "text/plain": [
              "neighbourhood_group               3089\n",
              "license                           1755\n",
              "reviews_per_month                  751\n",
              "last_review                        751\n",
              "minimum_nights                       0\n",
              "number_of_reviews_ltm                0\n",
              "availability_365                     0\n",
              "calculated_host_listings_count       0\n",
              "number_of_reviews                    0\n",
              "id                                   0\n",
              "name                                 0\n",
              "room_type                            0\n",
              "longitude                            0\n",
              "latitude                             0\n",
              "neighbourhood                        0\n",
              "host_name                            0\n",
              "host_id                              0\n",
              "price                                0\n",
              "dtype: int64"
            ]
          },
          "metadata": {},
          "execution_count": 6
        }
      ]
    },
    {
      "cell_type": "code",
      "source": [
        "# Excluindo colunas com dados faltantes\n",
        "df.drop(columns=['neighbourhood_group', 'license', 'reviews_per_month', 'last_review'], inplace=True)"
      ],
      "metadata": {
        "id": "uUXc7C1dg18x"
      },
      "execution_count": null,
      "outputs": []
    },
    {
      "cell_type": "code",
      "source": [
        "# Verificando o resultado \n",
        "(df.isnull().sum()).sort_values(ascending=False)"
      ],
      "metadata": {
        "colab": {
          "base_uri": "https://localhost:8080/"
        },
        "id": "evXwOjqli0PP",
        "outputId": "9c4ef65f-73bf-4ff1-f767-8869da56c5e9"
      },
      "execution_count": null,
      "outputs": [
        {
          "output_type": "execute_result",
          "data": {
            "text/plain": [
              "id                                0\n",
              "name                              0\n",
              "host_id                           0\n",
              "host_name                         0\n",
              "neighbourhood                     0\n",
              "latitude                          0\n",
              "longitude                         0\n",
              "room_type                         0\n",
              "price                             0\n",
              "minimum_nights                    0\n",
              "number_of_reviews                 0\n",
              "calculated_host_listings_count    0\n",
              "availability_365                  0\n",
              "number_of_reviews_ltm             0\n",
              "dtype: int64"
            ]
          },
          "metadata": {},
          "execution_count": 8
        }
      ]
    },
    {
      "cell_type": "markdown",
      "metadata": {
        "id": "iHXvvHIxaoNc"
      },
      "source": [
        "### **Q3. Qual o tipo de distribuição das variáveis?** \n",
        "\n",
        "Para identificar a distribuição das variáveis, irei plotar o histograma."
      ]
    },
    {
      "cell_type": "code",
      "metadata": {
        "id": "q2wWSfeRbmBo",
        "colab": {
          "base_uri": "https://localhost:8080/",
          "height": 701
        },
        "outputId": "84d85f52-3ab2-4835-94c2-2d9eb29d2586"
      },
      "source": [
        "# plotar o histograma das variáveis numéricas\n",
        "df.hist(bins=15, figsize=(15,10))"
      ],
      "execution_count": null,
      "outputs": [
        {
          "output_type": "execute_result",
          "data": {
            "text/plain": [
              "array([[<matplotlib.axes._subplots.AxesSubplot object at 0x7f185f99fca0>,\n",
              "        <matplotlib.axes._subplots.AxesSubplot object at 0x7f185f905130>,\n",
              "        <matplotlib.axes._subplots.AxesSubplot object at 0x7f185f936550>],\n",
              "       [<matplotlib.axes._subplots.AxesSubplot object at 0x7f185f8e2940>,\n",
              "        <matplotlib.axes._subplots.AxesSubplot object at 0x7f185f88ed30>,\n",
              "        <matplotlib.axes._subplots.AxesSubplot object at 0x7f185f84b0a0>],\n",
              "       [<matplotlib.axes._subplots.AxesSubplot object at 0x7f185f84b190>,\n",
              "        <matplotlib.axes._subplots.AxesSubplot object at 0x7f185f8765e0>,\n",
              "        <matplotlib.axes._subplots.AxesSubplot object at 0x7f185f7d0d60>],\n",
              "       [<matplotlib.axes._subplots.AxesSubplot object at 0x7f185f7891c0>,\n",
              "        <matplotlib.axes._subplots.AxesSubplot object at 0x7f185f7b6520>,\n",
              "        <matplotlib.axes._subplots.AxesSubplot object at 0x7f185f757ac0>]],\n",
              "      dtype=object)"
            ]
          },
          "metadata": {},
          "execution_count": 9
        },
        {
          "output_type": "display_data",
          "data": {
            "text/plain": [
              "<Figure size 1080x720 with 12 Axes>"
            ],
            "image/png": "[encoded data removed]"
          },
          "metadata": {
            "needs_background": "light"
          }
        }
      ]
    },
    {
      "cell_type": "markdown",
      "metadata": {
        "id": "7x4aw1j5wNmn"
      },
      "source": [
        "### **Q4. Qual a média dos preços de aluguel?**\n",
        "\n",
        "Como pode ser observado nos histogramas, existe indícios de *outliers*, provocando grande influência na média das variáveis numéricas, isto pode ser observado na variável `price`por exemplo. Lembrando que os outliers podem alterar a média elevando ou diminuindo o seu valor."
      ]
    },
    {
      "cell_type": "code",
      "metadata": {
        "id": "ff-8gUahLk-C",
        "colab": {
          "base_uri": "https://localhost:8080/"
        },
        "outputId": "b6afd6a8-eab0-42b8-e8f8-d2f3a7f0a260"
      },
      "source": [
        "# ver a média da coluna `price`\n",
        "df.price.mean()"
      ],
      "execution_count": null,
      "outputs": [
        {
          "output_type": "execute_result",
          "data": {
            "text/plain": [
              "244.62220783425056"
            ]
          },
          "metadata": {},
          "execution_count": 10
        }
      ]
    },
    {
      "cell_type": "markdown",
      "source": [
        "Existem duas maneiras que auxiliam a detecção de *outliers*, são elas:\n",
        "* Resumo estatístico por meio do método `describe`.\n",
        "* Plotar `boxplots`para a variável."
      ],
      "metadata": {
        "id": "0NANpn38aeRY"
      }
    },
    {
      "cell_type": "code",
      "source": [
        " # Ver resumo estatístico das variáveis númericas \n",
        " df[['price','minimum_nights','number_of_reviews',\n",
        "     'calculated_host_listings_count','availability_365']].describe()"
      ],
      "metadata": {
        "colab": {
          "base_uri": "https://localhost:8080/",
          "height": 364
        },
        "id": "G_a7g3qpbXvd",
        "outputId": "6a6ba647-ebfb-4d72-8af3-36fdc91c3329"
      },
      "execution_count": null,
      "outputs": [
        {
          "output_type": "execute_result",
          "data": {
            "text/plain": [
              "             price  minimum_nights  number_of_reviews  \\\n",
              "count  3089.000000     3089.000000        3089.000000   \n",
              "mean    244.622208       21.636776          50.929427   \n",
              "std     220.303675       31.701482          89.946567   \n",
              "min       0.000000        1.000000           0.000000   \n",
              "25%     125.000000        1.000000           1.000000   \n",
              "50%     207.000000        5.000000          11.000000   \n",
              "75%     300.000000       31.000000          66.000000   \n",
              "max    5000.000000      365.000000        1489.000000   \n",
              "\n",
              "       calculated_host_listings_count  availability_365  \n",
              "count                     3089.000000       3089.000000  \n",
              "mean                        62.811590        198.554872  \n",
              "std                        122.227894        121.063269  \n",
              "min                          1.000000          0.000000  \n",
              "25%                          2.000000         91.000000  \n",
              "50%                         11.000000        212.000000  \n",
              "75%                         39.000000        314.000000  \n",
              "max                        383.000000        365.000000  "
            ],
            "text/html": [
              "\n",
              "  <div id=\"df-47bf8611-de8e-4fd2-b7f7-962f5f0b0afd\">\n",
              "    <div class=\"colab-df-container\">\n",
              "      <div>\n",
              "<style scoped>\n",
              "    .dataframe tbody tr th:only-of-type {\n",
              "        vertical-align: middle;\n",
              "    }\n",
              "\n",
              "    .dataframe tbody tr th {\n",
              "        vertical-align: top;\n",
              "    }\n",
              "\n",
              "    .dataframe thead th {\n",
              "        text-align: right;\n",
              "    }\n",
              "</style>\n",
              "<table border=\"1\" class=\"dataframe\">\n",
              "  <thead>\n",
              "    <tr style=\"text-align: right;\">\n",
              "      <th></th>\n",
              "      <th>price</th>\n",
              "      <th>minimum_nights</th>\n",
              "      <th>number_of_reviews</th>\n",
              "      <th>calculated_host_listings_count</th>\n",
              "      <th>availability_365</th>\n",
              "    </tr>\n",
              "  </thead>\n",
              "  <tbody>\n",
              "    <tr>\n",
              "      <th>count</th>\n",
              "      <td>3089.000000</td>\n",
              "      <td>3089.000000</td>\n",
              "      <td>3089.000000</td>\n",
              "      <td>3089.000000</td>\n",
              "      <td>3089.000000</td>\n",
              "    </tr>\n",
              "    <tr>\n",
              "      <th>mean</th>\n",
              "      <td>244.622208</td>\n",
              "      <td>21.636776</td>\n",
              "      <td>50.929427</td>\n",
              "      <td>62.811590</td>\n",
              "      <td>198.554872</td>\n",
              "    </tr>\n",
              "    <tr>\n",
              "      <th>std</th>\n",
              "      <td>220.303675</td>\n",
              "      <td>31.701482</td>\n",
              "      <td>89.946567</td>\n",
              "      <td>122.227894</td>\n",
              "      <td>121.063269</td>\n",
              "    </tr>\n",
              "    <tr>\n",
              "      <th>min</th>\n",
              "      <td>0.000000</td>\n",
              "      <td>1.000000</td>\n",
              "      <td>0.000000</td>\n",
              "      <td>1.000000</td>\n",
              "      <td>0.000000</td>\n",
              "    </tr>\n",
              "    <tr>\n",
              "      <th>25%</th>\n",
              "      <td>125.000000</td>\n",
              "      <td>1.000000</td>\n",
              "      <td>1.000000</td>\n",
              "      <td>2.000000</td>\n",
              "      <td>91.000000</td>\n",
              "    </tr>\n",
              "    <tr>\n",
              "      <th>50%</th>\n",
              "      <td>207.000000</td>\n",
              "      <td>5.000000</td>\n",
              "      <td>11.000000</td>\n",
              "      <td>11.000000</td>\n",
              "      <td>212.000000</td>\n",
              "    </tr>\n",
              "    <tr>\n",
              "      <th>75%</th>\n",
              "      <td>300.000000</td>\n",
              "      <td>31.000000</td>\n",
              "      <td>66.000000</td>\n",
              "      <td>39.000000</td>\n",
              "      <td>314.000000</td>\n",
              "    </tr>\n",
              "    <tr>\n",
              "      <th>max</th>\n",
              "      <td>5000.000000</td>\n",
              "      <td>365.000000</td>\n",
              "      <td>1489.000000</td>\n",
              "      <td>383.000000</td>\n",
              "      <td>365.000000</td>\n",
              "    </tr>\n",
              "  </tbody>\n",
              "</table>\n",
              "</div>\n",
              "      <button class=\"colab-df-convert\" onclick=\"convertToInteractive('df-47bf8611-de8e-4fd2-b7f7-962f5f0b0afd')\"\n",
              "              title=\"Convert this dataframe to an interactive table.\"\n",
              "              style=\"display:none;\">\n",
              "        \n",
              "  <svg xmlns=\"http://www.w3.org/2000/svg\" height=\"24px\"viewBox=\"0 0 24 24\"\n",
              "       width=\"24px\">\n",
              "    <path d=\"M0 0h24v24H0V0z\" fill=\"none\"/>\n",
              "    <path d=\"M18.56 5.44l.94 2.06.94-2.06 2.06-.94-2.06-.94-.94-2.06-.94 2.06-2.06.94zm-11 1L8.5 8.5l.94-2.06 2.06-.94-2.06-.94L8.5 2.5l-.94 2.06-2.06.94zm10 10l.94 2.06.94-2.06 2.06-.94-2.06-.94-.94-2.06-.94 2.06-2.06.94z\"/><path d=\"M17.41 7.96l-1.37-1.37c-.4-.4-.92-.59-1.43-.59-.52 0-1.04.2-1.43.59L10.3 9.45l-7.72 7.72c-.78.78-.78 2.05 0 2.83L4 21.41c.39.39.9.59 1.41.59.51 0 1.02-.2 1.41-.59l7.78-7.78 2.81-2.81c.8-.78.8-2.07 0-2.86zM5.41 20L4 18.59l7.72-7.72 1.47 1.35L5.41 20z\"/>\n",
              "  </svg>\n",
              "      </button>\n",
              "      \n",
              "  <style>\n",
              "    .colab-df-container {\n",
              "      display:flex;\n",
              "      flex-wrap:wrap;\n",
              "      gap: 12px;\n",
              "    }\n",
              "\n",
              "    .colab-df-convert {\n",
              "      background-color: #E8F0FE;\n",
              "      border: none;\n",
              "      border-radius: 50%;\n",
              "      cursor: pointer;\n",
              "      display: none;\n",
              "      fill: #1967D2;\n",
              "      height: 32px;\n",
              "      padding: 0 0 0 0;\n",
              "      width: 32px;\n",
              "    }\n",
              "\n",
              "    .colab-df-convert:hover {\n",
              "      background-color: #E2EBFA;\n",
              "      box-shadow: 0px 1px 2px rgba(60, 64, 67, 0.3), 0px 1px 3px 1px rgba(60, 64, 67, 0.15);\n",
              "      fill: #174EA6;\n",
              "    }\n",
              "\n",
              "    [theme=dark] .colab-df-convert {\n",
              "      background-color: #3B4455;\n",
              "      fill: #D2E3FC;\n",
              "    }\n",
              "\n",
              "    [theme=dark] .colab-df-convert:hover {\n",
              "      background-color: #434B5C;\n",
              "      box-shadow: 0px 1px 3px 1px rgba(0, 0, 0, 0.15);\n",
              "      filter: drop-shadow(0px 1px 2px rgba(0, 0, 0, 0.3));\n",
              "      fill: #FFFFFF;\n",
              "    }\n",
              "  </style>\n",
              "\n",
              "      <script>\n",
              "        const buttonEl =\n",
              "          document.querySelector('#df-47bf8611-de8e-4fd2-b7f7-962f5f0b0afd button.colab-df-convert');\n",
              "        buttonEl.style.display =\n",
              "          google.colab.kernel.accessAllowed ? 'block' : 'none';\n",
              "\n",
              "        async function convertToInteractive(key) {\n",
              "          const element = document.querySelector('#df-47bf8611-de8e-4fd2-b7f7-962f5f0b0afd');\n",
              "          const dataTable =\n",
              "            await google.colab.kernel.invokeFunction('convertToInteractive',\n",
              "                                                     [key], {});\n",
              "          if (!dataTable) return;\n",
              "\n",
              "          const docLinkHtml = 'Like what you see? Visit the ' +\n",
              "            '<a target=\"_blank\" href=https://colab.research.google.com/notebooks/data_table.ipynb>data table notebook</a>'\n",
              "            + ' to learn more about interactive tables.';\n",
              "          element.innerHTML = '';\n",
              "          dataTable['output_type'] = 'display_data';\n",
              "          await google.colab.output.renderOutput(dataTable, element);\n",
              "          const docLink = document.createElement('div');\n",
              "          docLink.innerHTML = docLinkHtml;\n",
              "          element.appendChild(docLink);\n",
              "        }\n",
              "      </script>\n",
              "    </div>\n",
              "  </div>\n",
              "  "
            ]
          },
          "metadata": {},
          "execution_count": 11
        }
      ]
    },
    {
      "cell_type": "markdown",
      "source": [
        "Olhando o resumo estatístico acima, podemos confirmar algumas hipóteses como:\n",
        "\n",
        "* A variável `price`possui 75% do valor abaixo de 300. porém seu valor mínimo é 0(zero) e máximo é 5000.\n",
        "\n",
        "* A variável `number_of_reviews` (número de comentários) possui 75% do valor abaixo de 66, porém seu valor máximo é 1489.\n",
        "\n",
        "* Através da observação desses resultados, fica nítido a necessidade de fazer a \"limpeza\" dos *Outliers*, para isso utilizaremos o `IQR Store`.\n",
        "\n",
        "##  IQR\n",
        "\n",
        "O IQR é calculado subtraindo o Terceiro Quartil (75%) pelo Primeiro Quartil (25%).\n",
        "\n",
        "## IQR = Q3 - Q1\n",
        "\n",
        "* Em cada uma das variáveis que forem limpas, será necessário definir Q1 e Q3.\n",
        "* Calcular IQR.\n",
        "* Definir os limites inferiores e superiores de corte dos outliers."
      ],
      "metadata": {
        "id": "c6v1WTqwe-hn"
      }
    },
    {
      "cell_type": "code",
      "source": [
        "# Identificando os outliers para a variável price\n",
        "q1_price = df.price.quantile(.25)\n",
        "q3_price = df.price.quantile(.75)\n",
        "iqr_price = q3_price - q1_price\n",
        "print('IQR da variável price:', iqr_price)\n",
        "\n",
        "# definindo os limites\n",
        "sup_price = q3_price + 1.5 * iqr_price\n",
        "inf_price = q1_price - 1.5 * iqr_price\n",
        "\n",
        "print('Limite superior de price:', sup_price)\n",
        "print('Limite inferior de price:', inf_price)"
      ],
      "metadata": {
        "colab": {
          "base_uri": "https://localhost:8080/"
        },
        "id": "mU-NQMnFi8mo",
        "outputId": "cc16a148-ec0e-4672-fe00-b194080f74f8"
      },
      "execution_count": null,
      "outputs": [
        {
          "output_type": "stream",
          "name": "stdout",
          "text": [
            "IQR da variável price: 175.0\n",
            "Limite superior de price: 562.5\n",
            "Limite inferior de price: -137.5\n"
          ]
        }
      ]
    },
    {
      "cell_type": "markdown",
      "source": [
        "Os valores iguais a zero, precisam ser tratados, pois não foi \"filtrado\" devido ao limite inferior ser negativo."
      ],
      "metadata": {
        "id": "u_iMUfE2lIaR"
      }
    },
    {
      "cell_type": "code",
      "source": [
        "# Verificando o conjunto Original\n",
        "fig, ax=plt.subplots(figsize=(15,3))\n",
        "df.price.plot(kind='box', vert=False);\n",
        "ax.set_title('Dataset Original - price')\n",
        "plt.show()\n",
        "print(\"O dataset possui {} linhas\".format(df.shape[0]))\n",
        "print(\"{} Entradas acima de 562.5\".format(len(df[df.price > 562.5])))\n",
        "print(\"Representam {:.2f}% do dataset\".format((len(df[df.price > 562.5]) / df.shape[0])*100))"
      ],
      "metadata": {
        "colab": {
          "base_uri": "https://localhost:8080/",
          "height": 232
        },
        "id": "2Xrw_sUTlmX4",
        "outputId": "f59517c6-042d-4055-f362-79f093a8b9fb"
      },
      "execution_count": null,
      "outputs": [
        {
          "output_type": "display_data",
          "data": {
            "text/plain": [
              "<Figure size 1080x216 with 1 Axes>"
            ],
            "image/png": "[encoded data removed]"
          },
          "metadata": {
            "needs_background": "light"
          }
        },
        {
          "output_type": "stream",
          "name": "stdout",
          "text": [
            "O dataset possui 3089 linhas\n",
            "140 Entradas acima de 562.5\n",
            "Representam 4.53% do dataset\n"
          ]
        }
      ]
    },
    {
      "cell_type": "code",
      "source": [
        "# Identificando os outliers para a variável minimum_nights\n",
        "q1_minimum_nights = df.minimum_nights.quantile(.25)\n",
        "q3_minimum_nights = df.minimum_nights.quantile(.75)\n",
        "iqr_minimum_nights = q3_minimum_nights - q1_minimum_nights\n",
        "print('IQR da variável minimum_nights:', iqr_minimum_nights)\n",
        "\n",
        "# definindo os limites\n",
        "sup_minimum_nights = q3_minimum_nights + 1.5 * iqr_minimum_nights\n",
        "inf_minimum_nights = q1_minimum_nights - 1.5 * iqr_minimum_nights\n",
        "\n",
        "print('Limite superior de minimum_nights:', sup_minimum_nights)\n",
        "print('Limite inferior de minimum_nights:', inf_minimum_nights)"
      ],
      "metadata": {
        "colab": {
          "base_uri": "https://localhost:8080/"
        },
        "id": "uRAEWpDXpyWB",
        "outputId": "ca737793-a0ec-425e-82c5-c978e082f028"
      },
      "execution_count": null,
      "outputs": [
        {
          "output_type": "stream",
          "name": "stdout",
          "text": [
            "IQR da variável minimum_nights: 30.0\n",
            "Limite superior de minimum_nights: 76.0\n",
            "Limite inferior de minimum_nights: -44.0\n"
          ]
        }
      ]
    },
    {
      "cell_type": "code",
      "source": [
        "  # Verificando o conjunto original\n",
        "  fig, ax = plt.subplots(figsize=(15,3))\n",
        "  df.minimum_nights.plot(kind='box', vert=False);\n",
        "  ax.set_title('Dataset Original - minimum_nights')\n",
        "  plt.show()\n",
        "  print(\"O dataset possui {} linhas\".format(df.shape[0]))\n",
        "  print(\"{} Entradas acima de 76\".format(len(df[df.minimum_nights > 76])))\n",
        "  print(\"{:.4f}%\".format((len(df[df.minimum_nights > 76]) / df.shape[0])*100))"
      ],
      "metadata": {
        "colab": {
          "base_uri": "https://localhost:8080/",
          "height": 222
        },
        "id": "JxpYGk6HhzM4",
        "outputId": "8dd5e89d-4c7e-47fa-d1bd-0975e0e59a1c"
      },
      "execution_count": null,
      "outputs": [
        {
          "output_type": "display_data",
          "data": {
            "text/plain": [
              "<Figure size 1080x216 with 1 Axes>"
            ],
            "image/png": "[encoded data removed]"
          },
          "metadata": {
            "needs_background": "light"
          }
        },
        {
          "output_type": "stream",
          "name": "stdout",
          "text": [
            "O dataset possui 3089 linhas\n",
            "282 Entradas acima de 76\n",
            "9.1292%\n"
          ]
        }
      ]
    },
    {
      "cell_type": "code",
      "source": [
        "  # Identificando os outliers para a variável number_of_reviews\n",
        "  q1_number_of_reviews = df.number_of_reviews.quantile(.25)\n",
        "  q3_number_of_reviews = df.number_of_reviews.quantile(.75)\n",
        "  iqr_number_of_reviews = q3_number_of_reviews - q1_number_of_reviews\n",
        "  print('IQR da variável number_of_reviews:', iqr_number_of_reviews)\n",
        "\n",
        "  # definindo os limites\n",
        "  sup_number_of_reviews = q3_number_of_reviews + 1.5 * iqr_number_of_reviews\n",
        "  inf_number_of_reviews = q1_number_of_reviews - 1.5 * iqr_number_of_reviews\n",
        "\n",
        "  print('Limite superior de number_of_reviews:', sup_number_of_reviews)\n",
        "  print('Limite inferior de number_of_reviews:', inf_number_of_reviews)"
      ],
      "metadata": {
        "colab": {
          "base_uri": "https://localhost:8080/"
        },
        "id": "uktDjqmlqKbj",
        "outputId": "652bc750-703c-49ef-a2f9-2f24b8c47ff4"
      },
      "execution_count": null,
      "outputs": [
        {
          "output_type": "stream",
          "name": "stdout",
          "text": [
            "IQR da variável number_of_reviews: 65.0\n",
            "Limite superior de number_of_reviews: 163.5\n",
            "Limite inferior de number_of_reviews: -96.5\n"
          ]
        }
      ]
    },
    {
      "cell_type": "code",
      "source": [
        "  # verificando o conjunto original\n",
        "  fig, ax = plt.subplots(figsize=(15,3))\n",
        "  df.number_of_reviews.plot(kind='box', vert=False);\n",
        "  ax.set_title('Dataset Original - number_of_reviews')\n",
        "  plt.show()\n",
        "  print(\"O dataset possui {} entradas\".format(df.shape[0]))\n",
        "  print(\"{} Entradas acima de 163.5\".format(len(df[df.number_of_reviews > 163.5])))\n",
        "  print(\"Representam {:.2f}% do dataset\".format((len(df[df.number_of_reviews > 163.5]) / df.shape[0])*100))"
      ],
      "metadata": {
        "colab": {
          "base_uri": "https://localhost:8080/",
          "height": 220
        },
        "id": "KJxyTTgWsjkw",
        "outputId": "b6385ebe-0b87-47ba-8f5e-248cde744290"
      },
      "execution_count": null,
      "outputs": [
        {
          "output_type": "display_data",
          "data": {
            "text/plain": [
              "<Figure size 1080x216 with 1 Axes>"
            ],
            "image/png": "[encoded data removed]"
          },
          "metadata": {
            "needs_background": "light"
          }
        },
        {
          "output_type": "stream",
          "name": "stdout",
          "text": [
            "O dataset possui 3089 entradas\n",
            "285 Entradas acima de 163.5\n",
            "Representam 9.23% do dataset\n"
          ]
        }
      ]
    },
    {
      "cell_type": "code",
      "source": [
        "# identificando os outliers para a variável calculated_host_listings_count\n",
        "q1_calculated_host_listings_count = df.calculated_host_listings_count.quantile(.25)\n",
        "q3_calculated_host_listings_count = df.calculated_host_listings_count.quantile(.75)\n",
        "iqr_calculated_host_listings_count = q3_calculated_host_listings_count - q1_calculated_host_listings_count\n",
        "print('IQR da variável calculated_host_listings_count:', iqr_calculated_host_listings_count)\n",
        "\n",
        "# definindo os limites\n",
        "sup_calculated_host_listings_count = q3_calculated_host_listings_count + 1.5 * iqr_calculated_host_listings_count\n",
        "inf_calculated_host_listings_count = q1_calculated_host_listings_count - 1.5 * iqr_calculated_host_listings_count\n",
        "\n",
        "print('Limite superior de calculated_host_listings_reviews:', sup_calculated_host_listings_count)\n",
        "print('Limite inferior de calculated_host_listings_reviews:', inf_calculated_host_listings_count)"
      ],
      "metadata": {
        "colab": {
          "base_uri": "https://localhost:8080/"
        },
        "id": "i4x68vBGsYsi",
        "outputId": "8ee44313-7b07-4e1b-a55c-1d0bf43b9568"
      },
      "execution_count": null,
      "outputs": [
        {
          "output_type": "stream",
          "name": "stdout",
          "text": [
            "IQR da variável calculated_host_listings_count: 37.0\n",
            "Limite superior de calculated_host_listings_reviews: 94.5\n",
            "Limite inferior de calculated_host_listings_reviews: -53.5\n"
          ]
        }
      ]
    },
    {
      "cell_type": "code",
      "source": [
        "# verificando o conjunto original\n",
        "fig, ax = plt.subplots(figsize=(15,3))\n",
        "df.calculated_host_listings_count.plot(kind='box', vert=False);\n",
        "ax.set_title('Dataset Original - calculated_host_listings_count')\n",
        "plt.show()\n",
        "print(\"O dataset possui {} entradas\".format(df.shape[0]))\n",
        "print(\"{} Entradas acima de 94.5\".format(len(df[df.calculated_host_listings_count > 94.5])))\n",
        "print(\"Representam {:.2f}% do dataset\".format((len(df[df.calculated_host_listings_count > 94.5]) / df.shape[0])*100))"
      ],
      "metadata": {
        "colab": {
          "base_uri": "https://localhost:8080/",
          "height": 211
        },
        "id": "TyfNNdsGxM62",
        "outputId": "bdf314a4-6001-4dc2-b7e2-ba01b80349ce"
      },
      "execution_count": null,
      "outputs": [
        {
          "output_type": "display_data",
          "data": {
            "text/plain": [
              "<Figure size 1080x216 with 1 Axes>"
            ],
            "image/png": "[encoded data removed]"
          },
          "metadata": {
            "needs_background": "light"
          }
        },
        {
          "output_type": "stream",
          "name": "stdout",
          "text": [
            "O dataset possui 3089 entradas\n",
            "383 Entradas acima de 94.5\n",
            "Representam 12.40% do dataset\n"
          ]
        }
      ]
    },
    {
      "cell_type": "code",
      "source": [
        "# Identificando os outliers para a variável availability_365\n",
        "q1_availability_365 = df.availability_365.quantile(.25)\n",
        "q3_availability_365 = df.availability_365.quantile(.75)\n",
        "iqr_availability_365 = q3_availability_365 - q1_availability_365\n",
        "print('IQR da variável availability_365:', iqr_availability_365)\n",
        "\n",
        "# definindo os limites\n",
        "sup_availability_365 = q3_availability_365 + 1.5 * iqr_availability_365\n",
        "inf_availability_365 = q1_availability_365 - 1.5 * iqr_availability_365\n",
        "\n",
        "print('Limite superior de availability_365:', sup_availability_365)\n",
        "print('Limite inferior de availability_365:', inf_availability_365)"
      ],
      "metadata": {
        "colab": {
          "base_uri": "https://localhost:8080/"
        },
        "id": "H4FyH1Lwz5GF",
        "outputId": "3597b20f-7272-4213-ea90-3cf716fa5cba"
      },
      "execution_count": null,
      "outputs": [
        {
          "output_type": "stream",
          "name": "stdout",
          "text": [
            "IQR da variável availability_365: 223.0\n",
            "Limite superior de availability_365: 648.5\n",
            "Limite inferior de availability_365: -243.5\n"
          ]
        }
      ]
    },
    {
      "cell_type": "code",
      "source": [
        "# verificando o conjunto original\n",
        "fig, ax = plt.subplots(figsize=(15,3))\n",
        "df.availability_365.plot(kind='box', vert=False);\n",
        "ax.set_title('Dataset Original - availibility_365')\n",
        "plt.show()\n",
        "print(\"O dataset possui {} entradas\".format(df.shape[0]))\n",
        "print(\"{} Entradas acima de 648.5\".format(len(df[df.availability_365 > 648.5])))\n",
        "print(\"Representam {:.2f}% do dataset\".format((len(df[df.availability_365 > 648.5]) / df.shape[0])*100))"
      ],
      "metadata": {
        "colab": {
          "base_uri": "https://localhost:8080/",
          "height": 223
        },
        "id": "UA2Hjqg82HWq",
        "outputId": "040e4f29-da3d-484c-db69-7cbb44cdf67c"
      },
      "execution_count": null,
      "outputs": [
        {
          "output_type": "display_data",
          "data": {
            "text/plain": [
              "<Figure size 1080x216 with 1 Axes>"
            ],
            "image/png": "[encoded data removed]"
          },
          "metadata": {
            "needs_background": "light"
          }
        },
        {
          "output_type": "stream",
          "name": "stdout",
          "text": [
            "O dataset possui 3089 entradas\n",
            "0 Entradas acima de 648.5\n",
            "Representam 0.00% do dataset\n"
          ]
        }
      ]
    },
    {
      "cell_type": "markdown",
      "source": [
        "Como pode ser observado, a  variável `availability_365` não encontrou nenhum valor acima do limite superior, para ser eliminado."
      ],
      "metadata": {
        "id": "VmvaqCpK391S"
      }
    },
    {
      "cell_type": "markdown",
      "source": [
        "#### Histogramas sem outliers\n",
        "\n",
        "Já que identificamos outliers nas variáveis `price`e `minimum_nights`, vamos agora limpar o *DataFrame* delas e plotar novamente o histograma."
      ],
      "metadata": {
        "id": "UGm4VSpFl6sF"
      }
    },
    {
      "cell_type": "code",
      "source": [
        "  # Remover os *outliers* em um novo DataFrame\n",
        "  df_clean = df.copy()\n",
        "\n",
        "  df_clean.drop(df_clean[df_clean.price > 562.5].index, axis=0, inplace=True)\n",
        "  df_clean.drop(df_clean[df_clean.price == 0.0].index, axis=0, inplace=True)\n",
        "  df_clean.drop(df_clean[df_clean.minimum_nights > 30].index, axis=0, inplace=True)\n",
        "  df_clean.drop(df_clean[df_clean.number_of_reviews > 163.5].index, axis=0, inplace=True)\n",
        "  df_clean.drop(df_clean[df_clean.calculated_host_listings_count > 94.5].index, axis=0, inplace=True)\n",
        "\n",
        "  print('Shape antes da limpeza:', df.shape)\n",
        "  print('Shape após a limpeza:', df_clean.shape)"
      ],
      "metadata": {
        "colab": {
          "base_uri": "https://localhost:8080/"
        },
        "id": "z5mLzTQEmcFV",
        "outputId": "667cdf61-d263-4b34-d145-3c4936babfd2"
      },
      "execution_count": null,
      "outputs": [
        {
          "output_type": "stream",
          "name": "stdout",
          "text": [
            "Shape antes da limpeza: (3089, 14)\n",
            "Shape após a limpeza: (1883, 14)\n"
          ]
        }
      ]
    },
    {
      "cell_type": "code",
      "source": [
        "# Plotar o histograma para as variáveis numéricas\n",
        "df_clean.hist(bins=15, figsize=(15,10));"
      ],
      "metadata": {
        "colab": {
          "base_uri": "https://localhost:8080/",
          "height": 476
        },
        "id": "yQAKNLU4tWkE",
        "outputId": "57e1e3c0-90b4-49f7-be7a-28eba944bf94"
      },
      "execution_count": null,
      "outputs": [
        {
          "output_type": "display_data",
          "data": {
            "text/plain": [
              "<Figure size 1080x720 with 12 Axes>"
            ],
            "image/png": "[encoded data removed]"
          },
          "metadata": {
            "needs_background": "light"
          }
        }
      ]
    },
    {
      "cell_type": "code",
      "source": [
        " # Nova média de preços após a remoção dos outliers na variável price\n",
        "\n",
        " df_clean.price.mean()"
      ],
      "metadata": {
        "colab": {
          "base_uri": "https://localhost:8080/"
        },
        "id": "mBylQkQVoRpN",
        "outputId": "86cd3638-6d3f-4ba3-d8cc-7cfc5380355c"
      },
      "execution_count": null,
      "outputs": [
        {
          "output_type": "execute_result",
          "data": {
            "text/plain": [
              "221.0711630377058"
            ]
          },
          "metadata": {},
          "execution_count": 27
        }
      ]
    },
    {
      "cell_type": "markdown",
      "metadata": {
        "id": "IXn2oIo5qx-w"
      },
      "source": [
        "### **Q5. Qual a correlação existente entre as variáveis**\n",
        "\n",
        "Correlação significa que existe uma relação entre duas coisas. No nosso contexto, estamos buscando relação ou semelhança entre duas variáveis.\n",
        "\n",
        "Essa relação pode ser medida, e é função do coeficiente de correlação estabelecer qual a intensidade dela. Para identificar as correlações existentes entre as variáveis de interesse, vou:\n",
        "\n",
        "* Criar uma matriz de correlação\n",
        "* Gerar um *heatmap* a partir dessa matriz, usando a biblioteca `seaborn`."
      ]
    },
    {
      "cell_type": "code",
      "metadata": {
        "id": "x2ayzBajqxyd",
        "colab": {
          "base_uri": "https://localhost:8080/",
          "height": 270
        },
        "outputId": "1cbdaa27-8453-4076-e634-7c864bb20023"
      },
      "source": [
        "# criar uma matriz de correlação\n",
        "corr = df_clean[['price', 'minimum_nights', 'number_of_reviews',\n",
        "                 'calculated_host_listings_count','availability_365']].corr()\n",
        "\n",
        "# mostrar a matriz de correlação\n",
        "display(corr)"
      ],
      "execution_count": null,
      "outputs": [
        {
          "output_type": "display_data",
          "data": {
            "text/plain": [
              "                                   price  minimum_nights  number_of_reviews  \\\n",
              "price                           1.000000       -0.180327          -0.039410   \n",
              "minimum_nights                 -0.180327        1.000000          -0.283518   \n",
              "number_of_reviews              -0.039410       -0.283518           1.000000   \n",
              "calculated_host_listings_count  0.117725        0.091977          -0.047030   \n",
              "availability_365                0.171786        0.212611          -0.110285   \n",
              "\n",
              "                                calculated_host_listings_count  \\\n",
              "price                                                 0.117725   \n",
              "minimum_nights                                        0.091977   \n",
              "number_of_reviews                                    -0.047030   \n",
              "calculated_host_listings_count                        1.000000   \n",
              "availability_365                                      0.251836   \n",
              "\n",
              "                                availability_365  \n",
              "price                                   0.171786  \n",
              "minimum_nights                          0.212611  \n",
              "number_of_reviews                      -0.110285  \n",
              "calculated_host_listings_count          0.251836  \n",
              "availability_365                        1.000000  "
            ],
            "text/html": [
              "\n",
              "  <div id=\"df-2dce0a15-4fb1-4e1d-a644-8876ffad5a2f\">\n",
              "    <div class=\"colab-df-container\">\n",
              "      <div>\n",
              "<style scoped>\n",
              "    .dataframe tbody tr th:only-of-type {\n",
              "        vertical-align: middle;\n",
              "    }\n",
              "\n",
              "    .dataframe tbody tr th {\n",
              "        vertical-align: top;\n",
              "    }\n",
              "\n",
              "    .dataframe thead th {\n",
              "        text-align: right;\n",
              "    }\n",
              "</style>\n",
              "<table border=\"1\" class=\"dataframe\">\n",
              "  <thead>\n",
              "    <tr style=\"text-align: right;\">\n",
              "      <th></th>\n",
              "      <th>price</th>\n",
              "      <th>minimum_nights</th>\n",
              "      <th>number_of_reviews</th>\n",
              "      <th>calculated_host_listings_count</th>\n",
              "      <th>availability_365</th>\n",
              "    </tr>\n",
              "  </thead>\n",
              "  <tbody>\n",
              "    <tr>\n",
              "      <th>price</th>\n",
              "      <td>1.000000</td>\n",
              "      <td>-0.180327</td>\n",
              "      <td>-0.039410</td>\n",
              "      <td>0.117725</td>\n",
              "      <td>0.171786</td>\n",
              "    </tr>\n",
              "    <tr>\n",
              "      <th>minimum_nights</th>\n",
              "      <td>-0.180327</td>\n",
              "      <td>1.000000</td>\n",
              "      <td>-0.283518</td>\n",
              "      <td>0.091977</td>\n",
              "      <td>0.212611</td>\n",
              "    </tr>\n",
              "    <tr>\n",
              "      <th>number_of_reviews</th>\n",
              "      <td>-0.039410</td>\n",
              "      <td>-0.283518</td>\n",
              "      <td>1.000000</td>\n",
              "      <td>-0.047030</td>\n",
              "      <td>-0.110285</td>\n",
              "    </tr>\n",
              "    <tr>\n",
              "      <th>calculated_host_listings_count</th>\n",
              "      <td>0.117725</td>\n",
              "      <td>0.091977</td>\n",
              "      <td>-0.047030</td>\n",
              "      <td>1.000000</td>\n",
              "      <td>0.251836</td>\n",
              "    </tr>\n",
              "    <tr>\n",
              "      <th>availability_365</th>\n",
              "      <td>0.171786</td>\n",
              "      <td>0.212611</td>\n",
              "      <td>-0.110285</td>\n",
              "      <td>0.251836</td>\n",
              "      <td>1.000000</td>\n",
              "    </tr>\n",
              "  </tbody>\n",
              "</table>\n",
              "</div>\n",
              "      <button class=\"colab-df-convert\" onclick=\"convertToInteractive('df-2dce0a15-4fb1-4e1d-a644-8876ffad5a2f')\"\n",
              "              title=\"Convert this dataframe to an interactive table.\"\n",
              "              style=\"display:none;\">\n",
              "        \n",
              "  <svg xmlns=\"http://www.w3.org/2000/svg\" height=\"24px\"viewBox=\"0 0 24 24\"\n",
              "       width=\"24px\">\n",
              "    <path d=\"M0 0h24v24H0V0z\" fill=\"none\"/>\n",
              "    <path d=\"M18.56 5.44l.94 2.06.94-2.06 2.06-.94-2.06-.94-.94-2.06-.94 2.06-2.06.94zm-11 1L8.5 8.5l.94-2.06 2.06-.94-2.06-.94L8.5 2.5l-.94 2.06-2.06.94zm10 10l.94 2.06.94-2.06 2.06-.94-2.06-.94-.94-2.06-.94 2.06-2.06.94z\"/><path d=\"M17.41 7.96l-1.37-1.37c-.4-.4-.92-.59-1.43-.59-.52 0-1.04.2-1.43.59L10.3 9.45l-7.72 7.72c-.78.78-.78 2.05 0 2.83L4 21.41c.39.39.9.59 1.41.59.51 0 1.02-.2 1.41-.59l7.78-7.78 2.81-2.81c.8-.78.8-2.07 0-2.86zM5.41 20L4 18.59l7.72-7.72 1.47 1.35L5.41 20z\"/>\n",
              "  </svg>\n",
              "      </button>\n",
              "      \n",
              "  <style>\n",
              "    .colab-df-container {\n",
              "      display:flex;\n",
              "      flex-wrap:wrap;\n",
              "      gap: 12px;\n",
              "    }\n",
              "\n",
              "    .colab-df-convert {\n",
              "      background-color: #E8F0FE;\n",
              "      border: none;\n",
              "      border-radius: 50%;\n",
              "      cursor: pointer;\n",
              "      display: none;\n",
              "      fill: #1967D2;\n",
              "      height: 32px;\n",
              "      padding: 0 0 0 0;\n",
              "      width: 32px;\n",
              "    }\n",
              "\n",
              "    .colab-df-convert:hover {\n",
              "      background-color: #E2EBFA;\n",
              "      box-shadow: 0px 1px 2px rgba(60, 64, 67, 0.3), 0px 1px 3px 1px rgba(60, 64, 67, 0.15);\n",
              "      fill: #174EA6;\n",
              "    }\n",
              "\n",
              "    [theme=dark] .colab-df-convert {\n",
              "      background-color: #3B4455;\n",
              "      fill: #D2E3FC;\n",
              "    }\n",
              "\n",
              "    [theme=dark] .colab-df-convert:hover {\n",
              "      background-color: #434B5C;\n",
              "      box-shadow: 0px 1px 3px 1px rgba(0, 0, 0, 0.15);\n",
              "      filter: drop-shadow(0px 1px 2px rgba(0, 0, 0, 0.3));\n",
              "      fill: #FFFFFF;\n",
              "    }\n",
              "  </style>\n",
              "\n",
              "      <script>\n",
              "        const buttonEl =\n",
              "          document.querySelector('#df-2dce0a15-4fb1-4e1d-a644-8876ffad5a2f button.colab-df-convert');\n",
              "        buttonEl.style.display =\n",
              "          google.colab.kernel.accessAllowed ? 'block' : 'none';\n",
              "\n",
              "        async function convertToInteractive(key) {\n",
              "          const element = document.querySelector('#df-2dce0a15-4fb1-4e1d-a644-8876ffad5a2f');\n",
              "          const dataTable =\n",
              "            await google.colab.kernel.invokeFunction('convertToInteractive',\n",
              "                                                     [key], {});\n",
              "          if (!dataTable) return;\n",
              "\n",
              "          const docLinkHtml = 'Like what you see? Visit the ' +\n",
              "            '<a target=\"_blank\" href=https://colab.research.google.com/notebooks/data_table.ipynb>data table notebook</a>'\n",
              "            + ' to learn more about interactive tables.';\n",
              "          element.innerHTML = '';\n",
              "          dataTable['output_type'] = 'display_data';\n",
              "          await google.colab.output.renderOutput(dataTable, element);\n",
              "          const docLink = document.createElement('div');\n",
              "          docLink.innerHTML = docLinkHtml;\n",
              "          element.appendChild(docLink);\n",
              "        }\n",
              "      </script>\n",
              "    </div>\n",
              "  </div>\n",
              "  "
            ]
          },
          "metadata": {}
        }
      ]
    },
    {
      "cell_type": "code",
      "metadata": {
        "id": "91UujDr6ueqE",
        "colab": {
          "base_uri": "https://localhost:8080/",
          "height": 411
        },
        "outputId": "4d9f8540-3cc5-4cd9-fa0c-557c51759706"
      },
      "source": [
        "# plotar um heatmap a partir das correlações\n",
        "sns.heatmap(corr, cmap='RdBu', fmt='.2f', square=True, linecolor='white', annot=True);"
      ],
      "execution_count": null,
      "outputs": [
        {
          "output_type": "display_data",
          "data": {
            "text/plain": [
              "<Figure size 432x288 with 2 Axes>"
            ],
            "image/png": "[encoded data removed]"
          },
          "metadata": {
            "needs_background": "light"
          }
        }
      ]
    },
    {
      "cell_type": "markdown",
      "metadata": {
        "id": "7b6RMWpuHKN-"
      },
      "source": [
        "### **Q6. Qual o tipo de imóvel mais alugado no Airbnb?**\n",
        "\n",
        "A coluna da variável `room_type` indica o tipo de locação que está anunciada no Airbnb. Se você já alugou no site, sabe que existem opções de apartamentos/casas inteiras, apenas o aluguel de um quarto ou mesmo dividir o quarto com outras pessoas.\n",
        "\n",
        "Vamos contar a quantidade de ocorrências de cada tipo de aluguel, usando o método `value_counts()`."
      ]
    },
    {
      "cell_type": "code",
      "metadata": {
        "id": "ueLPNWvPHgfB",
        "colab": {
          "base_uri": "https://localhost:8080/"
        },
        "outputId": "2a6264b4-1d44-430c-a697-88f70fca2e1e"
      },
      "source": [
        "# mostrar a quantidade de cada tipo de imóvel disponível\n",
        "df_clean.room_type.value_counts()"
      ],
      "execution_count": null,
      "outputs": [
        {
          "output_type": "execute_result",
          "data": {
            "text/plain": [
              "Entire home/apt    1217\n",
              "Private room        652\n",
              "Hotel room           12\n",
              "Shared room           2\n",
              "Name: room_type, dtype: int64"
            ]
          },
          "metadata": {},
          "execution_count": 30
        }
      ]
    },
    {
      "cell_type": "code",
      "metadata": {
        "id": "EvwoO-XAHhIm",
        "colab": {
          "base_uri": "https://localhost:8080/"
        },
        "outputId": "62d5685d-f5e7-46d1-bcae-ea4f7adfa7d6"
      },
      "source": [
        "# mostrar a porcentagem de cada tipo de imóvel disponível\n",
        "df_clean.room_type.value_counts() / df_clean.shape[0]"
      ],
      "execution_count": null,
      "outputs": [
        {
          "output_type": "execute_result",
          "data": {
            "text/plain": [
              "Entire home/apt    0.646309\n",
              "Private room       0.346256\n",
              "Hotel room         0.006373\n",
              "Shared room        0.001062\n",
              "Name: room_type, dtype: float64"
            ]
          },
          "metadata": {},
          "execution_count": 31
        }
      ]
    },
    {
      "cell_type": "markdown",
      "metadata": {
        "id": "MFa5NbnLJMcd"
      },
      "source": [
        "### **Q7. Qual a localidade mais cara do dataset?**\n",
        "\n",
        "Uma maneira de se verificar uma variável em função da outra é usando `groupby()`. No caso, queremos comparar os bairros (*neighbourhoods*) a partir do preço de locação.\n",
        "\n"
      ]
    },
    {
      "cell_type": "code",
      "metadata": {
        "id": "MD_xa143JZpi",
        "colab": {
          "base_uri": "https://localhost:8080/"
        },
        "outputId": "2e62911b-046f-463b-bbf0-ed4c4f731e2a"
      },
      "source": [
        "# ver preços por bairros, na média\n",
        "df_clean.groupby(['neighbourhood']).price.mean().sort_values(ascending=False)"
      ],
      "execution_count": null,
      "outputs": [
        {
          "output_type": "execute_result",
          "data": {
            "text/plain": [
              "neighbourhood\n",
              "Cambridge Highlands      274.000000\n",
              "Area 2/MIT               273.790268\n",
              "East Cambridge           240.832884\n",
              "Neighborhood Nine        197.108108\n",
              "West Cambridge           193.988636\n",
              "Cambridgeport            192.934641\n",
              "Mid-Cambridge            186.211009\n",
              "Wellington-Harrington    182.853933\n",
              "The Port                 181.365854\n",
              "Agassiz                  179.132530\n",
              "North Cambridge          161.187215\n",
              "Strawberry Hill          160.137255\n",
              "Riverside                155.860465\n",
              "Name: price, dtype: float64"
            ]
          },
          "metadata": {},
          "execution_count": 32
        }
      ]
    },
    {
      "cell_type": "markdown",
      "source": [
        "Como são fornecidas as latitudes e longitudes para os imóveis, é possível plotar cada ponto. Para isso, considera-se `x=longitude` e `y=latitude`."
      ],
      "metadata": {
        "id": "pUTjd8u7sven"
      }
    },
    {
      "cell_type": "code",
      "metadata": {
        "id": "UxVJqJ_3W59I",
        "colab": {
          "base_uri": "https://localhost:8080/",
          "height": 469
        },
        "outputId": "8396717e-7c51-4c4a-8b29-69b2c9556c50"
      },
      "source": [
        "# plotar os imóveis pela latitude-longitude\n",
        "df_clean.plot(kind=\"scatter\", x='longitude', y='latitude', alpha=0.4, c=df_clean['price'], s=8,\n",
        "              cmap=plt.get_cmap('jet'), figsize=(12,8));"
      ],
      "execution_count": null,
      "outputs": [
        {
          "output_type": "display_data",
          "data": {
            "text/plain": [
              "<Figure size 864x576 with 2 Axes>"
            ],
            "image/png": "[encoded data removed]"
          },
          "metadata": {
            "needs_background": "light"
          }
        }
      ]
    },
    {
      "cell_type": "markdown",
      "metadata": {
        "id": "vTneAMRUYvr1"
      },
      "source": [
        "### **Q8. Qual é a média do mínimo de noites para aluguel (minimum_nights)?**"
      ]
    },
    {
      "cell_type": "code",
      "metadata": {
        "id": "_VzNhrEgY82N",
        "colab": {
          "base_uri": "https://localhost:8080/"
        },
        "outputId": "d61351ea-08c0-4a87-f79f-9ad58a702554"
      },
      "source": [
        "# ver a média da coluna `minimum_nights`\n",
        "df_clean.minimum_nights.mean()"
      ],
      "execution_count": null,
      "outputs": [
        {
          "output_type": "execute_result",
          "data": {
            "text/plain": [
              "9.742432288900691"
            ]
          },
          "metadata": {},
          "execution_count": 34
        }
      ]
    },
    {
      "cell_type": "markdown",
      "metadata": {
        "id": "GkvAg623RjoR"
      },
      "source": [
        "## Conclusões\n"
      ]
    },
    {
      "cell_type": "markdown",
      "metadata": {
        "id": "rbZ3Hsy9Ypw8"
      },
      "source": [
        "* Após a limpeza de *outliers*, foi possível notar uma melhor distribuição dos dados representado nos gráficos.\n",
        "\n",
        "*   O cálculo da variável `price` após ser realizada a limpeza de *outliers*, mostrou que de fato estava sofrendo distorção no valor.\n",
        "\n",
        "* Segundo a análise, a região mais cara na média é `Cambridge Highlands`. Vale lembrar que trata-se de uma versão resumida do dataset, a quantidade de imóveis por Bairro poderá distorcer os valores. Por se tratar de uma região ocupada por muitos estudantes de graduação e pós-graduação, possívelmente existirá muitas propriedades alugadas se comparada a outras regiões, logo seria ideal realizar uma análise mais aprofundada com o dataset completo.\n",
        "\n",
        "*  Foi possível notar que a maior parte dos aluguéis são de casas/apartamentos inteiros e/ou salas inteiras, portanto, o anfitrião com isso, pode concluir que haverá mais dificuldade em alugar quartos compartilhados.\n",
        "\n"
      ]
    }
  ]
}